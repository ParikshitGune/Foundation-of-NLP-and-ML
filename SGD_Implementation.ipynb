{
  "nbformat": 4,
  "nbformat_minor": 0,
  "metadata": {
    "colab": {
      "name": "Untitled2.ipynb",
      "provenance": [],
      "collapsed_sections": [],
      "toc_visible": true
    },
    "kernelspec": {
      "name": "python3",
      "display_name": "Python 3"
    }
  },
  "cells": [
    {
      "cell_type": "markdown",
      "metadata": {
        "id": "1TwGqRHXN7S2",
        "colab_type": "text"
      },
      "source": [
        "# Implementing SGD Linear Regressor"
      ]
    },
    {
      "cell_type": "markdown",
      "metadata": {
        "id": "totVT7GkOFxg",
        "colab_type": "text"
      },
      "source": [
        "## 1.1 Importing necessary Libraries"
      ]
    },
    {
      "cell_type": "code",
      "metadata": {
        "id": "aaYDV_vXbCLW",
        "colab_type": "code",
        "colab": {}
      },
      "source": [
        "# Importing necessary libraries\n",
        "import numpy as np\n",
        "import pandas as pd\n",
        "from sklearn.preprocessing import StandardScaler\n",
        "from sklearn.metrics import mean_squared_error\n",
        "from sklearn.model_selection import train_test_split\n",
        "import matplotlib.pyplot as plt\n",
        "from sklearn.metrics import mean_absolute_error,mean_squared_error\n",
        "%matplotlib inline\n",
        "from numpy import random\n",
        "import warnings\n",
        "warnings.filterwarnings('ignore')"
      ],
      "execution_count": 0,
      "outputs": []
    },
    {
      "cell_type": "markdown",
      "metadata": {
        "id": "WUkpGv_cOMd0",
        "colab_type": "text"
      },
      "source": [
        "## 1.2 Importing and getting basic info about the dataset"
      ]
    },
    {
      "cell_type": "code",
      "metadata": {
        "id": "YZjqskJ1k-kz",
        "colab_type": "code",
        "colab": {}
      },
      "source": [
        "from sklearn.datasets import load_boston\n",
        "boston = load_boston()\n",
        "print(boston.data.shape)\n",
        "print(boston.feature_names)\n",
        "data = boston.data"
      ],
      "execution_count": 0,
      "outputs": []
    },
    {
      "cell_type": "markdown",
      "metadata": {
        "id": "peu1FscTOfFy",
        "colab_type": "text"
      },
      "source": [
        "## 1.3 Standardising and splitting the input "
      ]
    },
    {
      "cell_type": "code",
      "metadata": {
        "id": "ODCDDwtZb6fh",
        "colab_type": "code",
        "colab": {}
      },
      "source": [
        "# Standardising the data\n",
        "sc = StandardScaler()\n",
        "standardised_data = sc.fit_transform(data)\n",
        "new_feature = np.ones(boston.data.shape[0])\n",
        "final_data = np.vstack((new_feature,standardised_data.T)).T\n",
        "\n",
        "# Getting actual prices of the house\n",
        "target_price = boston.target\n",
        "\n",
        "# Train and Test split of data\n",
        "X_train, X_test, Y_train, Y_test = train_test_split(final_data, target_price, test_size = 0.3, random_state = 5)"
      ],
      "execution_count": 0,
      "outputs": []
    },
    {
      "cell_type": "markdown",
      "metadata": {
        "id": "EP5D2elRPI8U",
        "colab_type": "text"
      },
      "source": [
        "## 1.4 Training SGDRegressor with necessary parameters"
      ]
    },
    {
      "cell_type": "code",
      "metadata": {
        "id": "qN0sHhAeMtrQ",
        "colab_type": "code",
        "colab": {
          "base_uri": "https://localhost:8080/",
          "height": 68
        },
        "outputId": "f167e84e-7245-489f-ca4e-ca321eb6c37e"
      },
      "source": [
        "def SGD_Linear_Regressor(X_train,Y_train):\n",
        "  # Number of epochs to run the model\n",
        "  epoch = 1000\n",
        "\n",
        "  #learning rate\n",
        "  r = 0.001\n",
        "\n",
        "  # Number of training points\n",
        "  m = X_train.shape[0]\n",
        "\n",
        "  # batch size\n",
        "  batch = 20\n",
        "\n",
        "  # Shuffle the input data by generating 'm' unique random numbers of range (0-m)\n",
        "  random_ids = random.choice(m,m,replace=False)\n",
        "  X_train_shuffled = X_train[random_ids,:]\n",
        "  y_train_shuffled = Y_train[random_ids]\n",
        "\n",
        "  #Create mini batches of size 20\n",
        "  mini_batches = [(X_train_shuffled[i:i+batch,:], y_train_shuffled[i:i+batch]) for i in range(0, m, batch)]\n",
        "\n",
        "  # Initialize the weight vector\n",
        "  weight_vector = np.random.normal(0,1,final_data.shape[1])\n",
        "  print(weight_vector)\n",
        "  \n",
        "  #temp weight matrix to store the intermediate weights\n",
        "  temp_weights = np.zeros(final_data.shape[1])\n",
        "\n",
        "  # converging the model\n",
        "  while(epoch >=0):\n",
        "      mean_weights = []\n",
        "      for batch in mini_batches:\n",
        "          X_batch = batch[0]\n",
        "          Y_batch = batch[1]\n",
        "          for j in range(0,final_data.shape[1]):\n",
        "              intd_sum = 0\n",
        "              for i in range(0,X_batch.shape[0]):\n",
        "                  #  weight[j] = weight[j] - (r/m)*((Σfrom i=1 to K)of(((weight.T * final_data[i]) - target_price[i])* feature_data[i,j]) then  r /= 2\n",
        "                  intd_sum += (((np.sum(sc.inverse_transform(weight_vector[1:14] * X_batch[i,1:])) + weight_vector[0]*X_batch[i,0]) - Y_batch[i]) * X_batch[i,j])\n",
        "              temp_weights[j] = weight_vector[j] - ((r/X_batch.shape[0])*intd_sum)\n",
        "          weight_vector = temp_weights\n",
        "          mean_weights.append(weight_vector.mean())\n",
        "      epoch -= 1 \n",
        "  return weight_vector,mean_weights\n",
        "\n",
        "# Get the final weight vector\n",
        "final_weight_vector,mean_weights = SGD_Linear_Regressor(X_train,Y_train)"
      ],
      "execution_count": 26,
      "outputs": [
        {
          "output_type": "stream",
          "text": [
            "[ 0.54006448  0.99926257 -0.88724573 -1.75738542 -0.03202348  0.02710486\n",
            "  1.06954151  1.33483576  0.77556327 -0.5021375  -1.21905008  1.08390898\n",
            " -0.8552094  -0.80845973]\n"
          ],
          "name": "stdout"
        }
      ]
    },
    {
      "cell_type": "markdown",
      "metadata": {
        "id": "y6a6RFgDQsH2",
        "colab_type": "text"
      },
      "source": [
        "## 1.5 Running the model on test data"
      ]
    },
    {
      "cell_type": "code",
      "metadata": {
        "id": "JZm-nD_6i-TZ",
        "colab_type": "code",
        "colab": {}
      },
      "source": [
        "# predicting the prices on test data\n",
        "predictions = np.zeros(X_test.shape[0])\n",
        "for i in range(0,X_test.shape[0]):\n",
        "    predictions[i] = np.sum(sc.inverse_transform(final_weight_vector[1:14]*X_test[i,1:])) + final_weight_vector[0]*X_test[i,0]"
      ],
      "execution_count": 0,
      "outputs": []
    },
    {
      "cell_type": "code",
      "metadata": {
        "id": "D3lyrPV2jBzA",
        "colab_type": "code",
        "colab": {
          "base_uri": "https://localhost:8080/",
          "height": 302
        },
        "outputId": "ec9f7ab8-ae7d-4b00-b3a8-006e66eeb50f"
      },
      "source": [
        "# Plotting the Scatter plot of Actual Price VS Predicted Price\n",
        "plt.scatter(Y_test, predictions)\n",
        "plt.xlabel(\"Actual Prices\",size = 13)\n",
        "plt.ylabel(\"Predicted prices\",size =13)\n",
        "plt.title(\"Actual vs Predicted House Prices\",size=18)\n",
        "plt.show()"
      ],
      "execution_count": 28,
      "outputs": [
        {
          "output_type": "display_data",
          "data": {
            "image/png": "[encoded data removed]",
            "text/plain": [
              "<Figure size 432x288 with 1 Axes>"
            ]
          },
          "metadata": {
            "tags": []
          }
        }
      ]
    },
    {
      "cell_type": "code",
      "metadata": {
        "id": "-IdN7isTjMxV",
        "colab_type": "code",
        "colab": {
          "base_uri": "https://localhost:8080/",
          "height": 51
        },
        "outputId": "2ecd82cd-00cc-48e7-98b4-9aaaebb17c57"
      },
      "source": [
        "# MSE and RMSE of the above model\n",
        "print(\"MSE : \",mean_squared_error(Y_test, predictions))\n",
        "print(\"RMSE : \",np.sqrt(mean_squared_error(Y_test,predictions)))"
      ],
      "execution_count": 34,
      "outputs": [
        {
          "output_type": "stream",
          "text": [
            "MSE :  32.547744389980366\n",
            "RMSE :  5.7050630487296425\n"
          ],
          "name": "stdout"
        }
      ]
    },
    {
      "cell_type": "markdown",
      "metadata": {
        "id": "DgRbmk7iUbZm",
        "colab_type": "text"
      },
      "source": [
        "# Applying SK-Learn's SGD model"
      ]
    },
    {
      "cell_type": "code",
      "metadata": {
        "id": "e0_U9EhyjQCV",
        "colab_type": "code",
        "colab": {
          "base_uri": "https://localhost:8080/",
          "height": 302
        },
        "outputId": "c3177ad0-b8f6-42fd-a344-409a5bf42fed"
      },
      "source": [
        "from sklearn.linear_model import SGDRegressor\n",
        "reg = SGDRegressor(max_iter=1000, eta0=0.001)\n",
        "reg.fit(X_train, Y_train)\n",
        "\n",
        "weight_vector_sklearn = reg.coef_ \n",
        "predictions_sk_learn = reg.predict(X_test)\n",
        "\n",
        "plt.scatter(Y_test, predictions)\n",
        "plt.xlabel(\"Actual Prices\",size = 13)\n",
        "plt.ylabel(\"Predicted prices\",size =13)\n",
        "plt.title(\"Actual vs Predicted House Prices\",size=18)\n",
        "plt.show()"
      ],
      "execution_count": 35,
      "outputs": [
        {
          "output_type": "display_data",
          "data": {
            "image/png": "[encoded data removed]",
            "text/plain": [
              "<Figure size 432x288 with 1 Axes>"
            ]
          },
          "metadata": {
            "tags": []
          }
        }
      ]
    },
    {
      "cell_type": "code",
      "metadata": {
        "id": "wleSvttJjiBp",
        "colab_type": "code",
        "colab": {
          "base_uri": "https://localhost:8080/",
          "height": 51
        },
        "outputId": "cbe0cb27-01a9-4577-e1b1-8b5a01d10fba"
      },
      "source": [
        "# MSE and RMSE of the Sk-Learns Linear Regressor\n",
        "print(\"MSE : \",mean_squared_error(Y_test, predictions_sk_learn))\n",
        "print(\"RMSE : \",np.sqrt(mean_squared_error(Y_test,predictions_sk_learn)))"
      ],
      "execution_count": 36,
      "outputs": [
        {
          "output_type": "stream",
          "text": [
            "MSE :  31.775878180807624\n",
            "RMSE :  5.637009684292517\n"
          ],
          "name": "stdout"
        }
      ]
    },
    {
      "cell_type": "markdown",
      "metadata": {
        "id": "yx0CWu3kWOdT",
        "colab_type": "text"
      },
      "source": [
        "# Comparing both models"
      ]
    },
    {
      "cell_type": "code",
      "metadata": {
        "id": "P96aakmnXzmU",
        "colab_type": "code",
        "colab": {
          "base_uri": "https://localhost:8080/",
          "height": 88
        },
        "outputId": "deb45852-42f6-467c-ffb2-dad3ae1ddec7"
      },
      "source": [
        "# Sample predictions vs actual\n",
        "print(f'Sample Actual vs Prediction Prices for custom built SGD: {list(zip(Y_test[:5], predictions[:5]))}')\n",
        "print(\"==================================================================================================================================================================================================\")\n",
        "print(f'Sample Actual vs Prediction Prices for Scikit-Learn SGD: {list(zip(Y_test[:5], predictions_sk_learn[:5]))}')"
      ],
      "execution_count": 43,
      "outputs": [
        {
          "output_type": "stream",
          "text": [
            "Sample Actual vs Prediction Prices for custom built SGD: [(37.6, 36.81403425870519), (27.9, 31.570157875347604), (22.6, 27.000376378053943), (13.8, 5.3686609381355765), (35.2, 34.46748712360613)]\n",
            "==================================================================================================================================================================================================\n",
            "Sample Actual vs Prediction Prices for Scikit-Learn SGD: [(37.6, 37.12380533910163), (27.9, 30.15852320082727), (22.6, 27.228876596149192), (13.8, 5.72694614061106), (35.2, 33.72585369507483)]\n"
          ],
          "name": "stdout"
        }
      ]
    },
    {
      "cell_type": "code",
      "metadata": {
        "id": "9c_TCs7hWL9j",
        "colab_type": "code",
        "colab": {
          "base_uri": "https://localhost:8080/",
          "height": 303
        },
        "outputId": "582fcb29-21d9-48e9-8b96-8bd94b30dfd1"
      },
      "source": [
        "# Comparing the predictions of both models\n",
        "plt.scatter(predictions, predictions_sk_learn)\n",
        "plt.xlabel(\"Predictions custom built SGD\",size=14)\n",
        "plt.ylabel(\"Predictions of Sklearn SGD\",size=14)\n",
        "plt.title(\"Comparison between custom and scikit learn models\",size=18)\n",
        "plt.show()"
      ],
      "execution_count": 37,
      "outputs": [
        {
          "output_type": "display_data",
          "data": {
            "image/png": "[encoded data removed]",
            "text/plain": [
              "<Figure size 432x288 with 1 Axes>"
            ]
          },
          "metadata": {
            "tags": []
          }
        }
      ]
    },
    {
      "cell_type": "markdown",
      "metadata": {
        "id": "Wxay2v_wWz6t",
        "colab_type": "text"
      },
      "source": [
        "# Obervations\n",
        "Comparing the MSE and RMSE given by both models, we can say that with 1000 iterations, both models are giving almost the same performance."
      ]
    },
    {
      "cell_type": "code",
      "metadata": {
        "id": "TXsFr-rPXK5S",
        "colab_type": "code",
        "colab": {
          "base_uri": "https://localhost:8080/",
          "height": 119
        },
        "outputId": "23053759-2a97-478d-e062-cad5c484f2a2"
      },
      "source": [
        "from prettytable import PrettyTable\n",
        "table = PrettyTable()\n",
        "\n",
        "table.field_names = ['Model','MSE','RMSE']\n",
        "table.add_row([\"Custom built SGD\",\"32.54\",\"5.70\"])\n",
        "table.add_row([\"Sk-Learns's SGD\",\"31.77\",\"5.63\"])\n",
        "print(table)"
      ],
      "execution_count": 38,
      "outputs": [
        {
          "output_type": "stream",
          "text": [
            "+------------------+-------+------+\n",
            "|      Model       |  MSE  | RMSE |\n",
            "+------------------+-------+------+\n",
            "| Custom built SGD | 32.54 | 5.70 |\n",
            "| Sk-Learns's SGD  | 31.77 | 5.63 |\n",
            "+------------------+-------+------+\n"
          ],
          "name": "stdout"
        }
      ]
    }
  ]
}