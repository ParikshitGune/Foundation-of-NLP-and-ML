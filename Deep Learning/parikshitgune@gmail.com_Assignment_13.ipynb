{
  "nbformat": 4,
  "nbformat_minor": 0,
  "metadata": {
    "colab": {
      "name": "Untitled1.ipynb",
      "provenance": [],
      "toc_visible": true
    },
    "kernelspec": {
      "name": "python3",
      "display_name": "Python 3"
    }
  },
  "cells": [
    {
      "cell_type": "markdown",
      "metadata": {
        "id": "2RN5ysfbsbm7",
        "colab_type": "text"
      },
      "source": [
        "# 1. CNN on MNIST data set."
      ]
    },
    {
      "cell_type": "markdown",
      "metadata": {
        "id": "PTHBffyvstbu",
        "colab_type": "text"
      },
      "source": [
        "## 1.1 Importing necessary Libraries"
      ]
    },
    {
      "cell_type": "code",
      "metadata": {
        "id": "O9cDwGddtUi8",
        "colab_type": "code",
        "colab": {
          "base_uri": "https://localhost:8080/",
          "height": 97
        },
        "outputId": "066ff711-8097-402b-fffd-a48fa7d8bdc7"
      },
      "source": [
        "from __future__ import print_function\n",
        "import keras\n",
        "from keras.datasets import mnist\n",
        "from keras.models import Sequential\n",
        "from keras.layers import Dense, Dropout, Flatten\n",
        "from keras.layers import Conv2D, MaxPooling2D\n",
        "from keras import backend as K"
      ],
      "execution_count": 1,
      "outputs": [
        {
          "output_type": "stream",
          "text": [
            "Using TensorFlow backend.\n"
          ],
          "name": "stderr"
        },
        {
          "output_type": "display_data",
          "data": {
            "text/html": [
              "<p style=\"color: red;\">\n",
              "The default version of TensorFlow in Colab will soon switch to TensorFlow 2.x.<br>\n",
              "We recommend you <a href=\"https://www.tensorflow.org/guide/migrate\" target=\"_blank\">upgrade</a> now \n",
              "or ensure your notebook will continue to use TensorFlow 1.x via the <code>%tensorflow_version 1.x</code> magic:\n",
              "<a href=\"https://colab.research.google.com/notebooks/tensorflow_version.ipynb\" target=\"_blank\">more info</a>.</p>\n"
            ],
            "text/plain": [
              "<IPython.core.display.HTML object>"
            ]
          },
          "metadata": {
            "tags": []
          }
        }
      ]
    },
    {
      "cell_type": "markdown",
      "metadata": {
        "id": "DGvCHrrcttvK",
        "colab_type": "text"
      },
      "source": [
        "## 1.2 Setting required parameters and Reading MNIST data set"
      ]
    },
    {
      "cell_type": "code",
      "metadata": {
        "id": "H9EU0e8yzFOm",
        "colab_type": "code",
        "outputId": "0fce4969-203c-409d-a341-cbb4de6c4900",
        "colab": {
          "base_uri": "https://localhost:8080/",
          "height": 153
        }
      },
      "source": [
        "# Credits: https://github.com/keras-team/keras/blob/master/examples/mnist_cnn.py\n",
        "\n",
        "batch_size = 256\n",
        "num_classes = 10\n",
        "epochs = 10\n",
        "\n",
        "# input image dimensions\n",
        "img_rows, img_cols = 28, 28\n",
        "\n",
        "# the data, split between train and test sets\n",
        "(x_train, y_train), (x_test, y_test) = mnist.load_data()\n",
        "\n",
        "if K.image_data_format() == 'channels_first':\n",
        "    x_train = x_train.reshape(x_train.shape[0], 1, img_rows, img_cols)\n",
        "    x_test = x_test.reshape(x_test.shape[0], 1, img_rows, img_cols)\n",
        "    input_shape = (1, img_rows, img_cols)\n",
        "else:\n",
        "    x_train = x_train.reshape(x_train.shape[0], img_rows, img_cols, 1)\n",
        "    x_test = x_test.reshape(x_test.shape[0], img_rows, img_cols, 1)\n",
        "    input_shape = (img_rows, img_cols, 1)\n",
        "\n",
        "print('x_train shape:', x_train.shape)\n",
        "print('x_test shape:', x_test.shape)\n",
        "print(x_train.shape[0], 'train samples')\n",
        "print(x_test.shape[0], 'test samples')\n",
        "print(y_train.shape)\n",
        "print(y_train)"
      ],
      "execution_count": 2,
      "outputs": [
        {
          "output_type": "stream",
          "text": [
            "Downloading data from https://s3.amazonaws.com/img-datasets/mnist.npz\n",
            "11493376/11490434 [==============================] - 0s 0us/step\n",
            "x_train shape: (60000, 28, 28, 1)\n",
            "x_test shape: (10000, 28, 28, 1)\n",
            "60000 train samples\n",
            "10000 test samples\n",
            "(60000,)\n",
            "[5 0 4 ... 5 6 8]\n"
          ],
          "name": "stdout"
        }
      ]
    },
    {
      "cell_type": "markdown",
      "metadata": {
        "id": "F39MRj1tuC32",
        "colab_type": "text"
      },
      "source": [
        "## 1.3 Normalizing the data and converting output label into matrix form"
      ]
    },
    {
      "cell_type": "code",
      "metadata": {
        "id": "ZpRqxZFEuJAH",
        "colab_type": "code",
        "colab": {
          "base_uri": "https://localhost:8080/",
          "height": 187
        },
        "outputId": "0983d33c-ed05-4a15-8ef0-f09e6ee7b914"
      },
      "source": [
        "x_train = x_train.astype('float32')\n",
        "x_test = x_test.astype('float32')\n",
        "x_train /= 255\n",
        "x_test /= 255\n",
        "print('x_train shape:', x_train.shape)\n",
        "print(x_train.shape[0], 'train samples')\n",
        "print(x_test.shape[0], 'test samples')\n",
        "\n",
        "# convert class vectors to binary class matrices\n",
        "y_train = keras.utils.to_categorical(y_train, num_classes)\n",
        "y_test = keras.utils.to_categorical(y_test, num_classes)\n",
        "print(y_train)"
      ],
      "execution_count": 3,
      "outputs": [
        {
          "output_type": "stream",
          "text": [
            "x_train shape: (60000, 28, 28, 1)\n",
            "60000 train samples\n",
            "10000 test samples\n",
            "[[0. 0. 0. ... 0. 0. 0.]\n",
            " [1. 0. 0. ... 0. 0. 0.]\n",
            " [0. 0. 0. ... 0. 0. 0.]\n",
            " ...\n",
            " [0. 0. 0. ... 0. 0. 0.]\n",
            " [0. 0. 0. ... 0. 0. 0.]\n",
            " [0. 0. 0. ... 0. 1. 0.]]\n"
          ],
          "name": "stdout"
        }
      ]
    },
    {
      "cell_type": "markdown",
      "metadata": {
        "id": "BG4OP8je4xgJ",
        "colab_type": "text"
      },
      "source": [
        "## 1.4 Plot a dynamic graph"
      ]
    },
    {
      "cell_type": "code",
      "metadata": {
        "id": "z-c72GVO4w0t",
        "colab_type": "code",
        "colab": {}
      },
      "source": [
        "import matplotlib.pyplot as plt\n",
        "%matplotlib inline\n",
        "import numpy as np\n",
        "import time\n",
        "# https://gist.github.com/greydanus/f6eee59eaf1d90fcb3b534a25362cea4\n",
        "# https://stackoverflow.com/a/14434334\n",
        "# this function is used to update the plots for each epoch and error\n",
        "def plt_dynamic(x, vy, ty, ax, colors=['b']):\n",
        "  ax.plot(x, vy, 'b', label=\"Validation Loss\")\n",
        "  ax.plot(x, ty, 'r', label=\"Train Loss\")\n",
        "  plt.legend()\n",
        "  plt.grid()\n",
        "  fig.canvas.draw()"
      ],
      "execution_count": 0,
      "outputs": []
    },
    {
      "cell_type": "markdown",
      "metadata": {
        "id": "jMU2EXwauWza",
        "colab_type": "text"
      },
      "source": [
        "#2. Training different models on MNIST data "
      ]
    },
    {
      "cell_type": "markdown",
      "metadata": {
        "id": "An5DulU3ufYB",
        "colab_type": "text"
      },
      "source": [
        "## 2.1 Model A.1 : Three Convolution layers with 3X3 filter size(without dropout and Batch Normalization)"
      ]
    },
    {
      "cell_type": "code",
      "metadata": {
        "id": "g987H1IjvIx1",
        "colab_type": "code",
        "colab": {
          "base_uri": "https://localhost:8080/",
          "height": 1000
        },
        "outputId": "c41b2b11-ccae-40fe-aa22-a5a090dbcf43"
      },
      "source": [
        "model = Sequential()\n",
        "model.add(Conv2D(16, kernel_size=(3, 3),\n",
        "                 activation='relu',\n",
        "                 input_shape=input_shape))\n",
        "model.summary()\n",
        "print(\"------------------------------------------------\")\n",
        "model.add(Conv2D(32, (3, 3), activation='relu'))\n",
        "model.summary()\n",
        "print(\"------------------------------------------------\")\n",
        "model.add(Conv2D(64, (3, 3), activation='relu'))\n",
        "model.summary()\n",
        "print(\"------------------------------------------------\")\n",
        "model.add(MaxPooling2D(pool_size=(2, 2)))\n",
        "model.summary()\n",
        "print(\"------------------------------------------------\")\n",
        "model.add(Flatten())\n",
        "model.summary()\n",
        "print(\"------------------------------------------------\")\n",
        "model.add(Dense(64, activation='relu'))\n",
        "model.summary()\n",
        "print(\"------------------------------------------------\")\n",
        "model.add(Dense(num_classes, activation='softmax'))\n",
        "model.summary()\n",
        "print(\"------------------------------------------------\")\n",
        "\n",
        "model.compile(loss=keras.losses.categorical_crossentropy,\n",
        "              optimizer=keras.optimizers.Adam(),\n",
        "              metrics=['accuracy'])\n",
        "\n",
        "history = model.fit(x_train, y_train,\n",
        "          batch_size=batch_size,\n",
        "          epochs=epochs,\n",
        "          verbose=1,\n",
        "          validation_data=(x_test, y_test))\n",
        "score = model.evaluate(x_test, y_test, verbose=0)\n",
        "print('Test loss:', score[0])\n",
        "print('Test accuracy:', score[1])"
      ],
      "execution_count": 13,
      "outputs": [
        {
          "output_type": "stream",
          "text": [
            "Model: \"sequential_2\"\n",
            "_________________________________________________________________\n",
            "Layer (type)                 Output Shape              Param #   \n",
            "=================================================================\n",
            "conv2d_4 (Conv2D)            (None, 26, 26, 16)        160       \n",
            "=================================================================\n",
            "Total params: 160\n",
            "Trainable params: 160\n",
            "Non-trainable params: 0\n",
            "_________________________________________________________________\n",
            "------------------------------------------------\n",
            "Model: \"sequential_2\"\n",
            "_________________________________________________________________\n",
            "Layer (type)                 Output Shape              Param #   \n",
            "=================================================================\n",
            "conv2d_4 (Conv2D)            (None, 26, 26, 16)        160       \n",
            "_________________________________________________________________\n",
            "conv2d_5 (Conv2D)            (None, 24, 24, 32)        4640      \n",
            "=================================================================\n",
            "Total params: 4,800\n",
            "Trainable params: 4,800\n",
            "Non-trainable params: 0\n",
            "_________________________________________________________________\n",
            "------------------------------------------------\n",
            "Model: \"sequential_2\"\n",
            "_________________________________________________________________\n",
            "Layer (type)                 Output Shape              Param #   \n",
            "=================================================================\n",
            "conv2d_4 (Conv2D)            (None, 26, 26, 16)        160       \n",
            "_________________________________________________________________\n",
            "conv2d_5 (Conv2D)            (None, 24, 24, 32)        4640      \n",
            "_________________________________________________________________\n",
            "conv2d_6 (Conv2D)            (None, 22, 22, 64)        18496     \n",
            "=================================================================\n",
            "Total params: 23,296\n",
            "Trainable params: 23,296\n",
            "Non-trainable params: 0\n",
            "_________________________________________________________________\n",
            "------------------------------------------------\n",
            "Model: \"sequential_2\"\n",
            "_________________________________________________________________\n",
            "Layer (type)                 Output Shape              Param #   \n",
            "=================================================================\n",
            "conv2d_4 (Conv2D)            (None, 26, 26, 16)        160       \n",
            "_________________________________________________________________\n",
            "conv2d_5 (Conv2D)            (None, 24, 24, 32)        4640      \n",
            "_________________________________________________________________\n",
            "conv2d_6 (Conv2D)            (None, 22, 22, 64)        18496     \n",
            "_________________________________________________________________\n",
            "max_pooling2d_2 (MaxPooling2 (None, 11, 11, 64)        0         \n",
            "=================================================================\n",
            "Total params: 23,296\n",
            "Trainable params: 23,296\n",
            "Non-trainable params: 0\n",
            "_________________________________________________________________\n",
            "------------------------------------------------\n",
            "Model: \"sequential_2\"\n",
            "_________________________________________________________________\n",
            "Layer (type)                 Output Shape              Param #   \n",
            "=================================================================\n",
            "conv2d_4 (Conv2D)            (None, 26, 26, 16)        160       \n",
            "_________________________________________________________________\n",
            "conv2d_5 (Conv2D)            (None, 24, 24, 32)        4640      \n",
            "_________________________________________________________________\n",
            "conv2d_6 (Conv2D)            (None, 22, 22, 64)        18496     \n",
            "_________________________________________________________________\n",
            "max_pooling2d_2 (MaxPooling2 (None, 11, 11, 64)        0         \n",
            "_________________________________________________________________\n",
            "flatten_2 (Flatten)          (None, 7744)              0         \n",
            "=================================================================\n",
            "Total params: 23,296\n",
            "Trainable params: 23,296\n",
            "Non-trainable params: 0\n",
            "_________________________________________________________________\n",
            "------------------------------------------------\n",
            "Model: \"sequential_2\"\n",
            "_________________________________________________________________\n",
            "Layer (type)                 Output Shape              Param #   \n",
            "=================================================================\n",
            "conv2d_4 (Conv2D)            (None, 26, 26, 16)        160       \n",
            "_________________________________________________________________\n",
            "conv2d_5 (Conv2D)            (None, 24, 24, 32)        4640      \n",
            "_________________________________________________________________\n",
            "conv2d_6 (Conv2D)            (None, 22, 22, 64)        18496     \n",
            "_________________________________________________________________\n",
            "max_pooling2d_2 (MaxPooling2 (None, 11, 11, 64)        0         \n",
            "_________________________________________________________________\n",
            "flatten_2 (Flatten)          (None, 7744)              0         \n",
            "_________________________________________________________________\n",
            "dense_3 (Dense)              (None, 64)                495680    \n",
            "=================================================================\n",
            "Total params: 518,976\n",
            "Trainable params: 518,976\n",
            "Non-trainable params: 0\n",
            "_________________________________________________________________\n",
            "------------------------------------------------\n",
            "Model: \"sequential_2\"\n",
            "_________________________________________________________________\n",
            "Layer (type)                 Output Shape              Param #   \n",
            "=================================================================\n",
            "conv2d_4 (Conv2D)            (None, 26, 26, 16)        160       \n",
            "_________________________________________________________________\n",
            "conv2d_5 (Conv2D)            (None, 24, 24, 32)        4640      \n",
            "_________________________________________________________________\n",
            "conv2d_6 (Conv2D)            (None, 22, 22, 64)        18496     \n",
            "_________________________________________________________________\n",
            "max_pooling2d_2 (MaxPooling2 (None, 11, 11, 64)        0         \n",
            "_________________________________________________________________\n",
            "flatten_2 (Flatten)          (None, 7744)              0         \n",
            "_________________________________________________________________\n",
            "dense_3 (Dense)              (None, 64)                495680    \n",
            "_________________________________________________________________\n",
            "dense_4 (Dense)              (None, 10)                650       \n",
            "=================================================================\n",
            "Total params: 519,626\n",
            "Trainable params: 519,626\n",
            "Non-trainable params: 0\n",
            "_________________________________________________________________\n",
            "------------------------------------------------\n",
            "Train on 60000 samples, validate on 10000 samples\n",
            "Epoch 1/10\n",
            "60000/60000 [==============================] - 139s 2ms/step - loss: 0.2423 - acc: 0.9286 - val_loss: 0.0526 - val_acc: 0.9837\n",
            "Epoch 2/10\n",
            "60000/60000 [==============================] - 138s 2ms/step - loss: 0.0545 - acc: 0.9829 - val_loss: 0.0384 - val_acc: 0.9875\n",
            "Epoch 3/10\n",
            "60000/60000 [==============================] - 136s 2ms/step - loss: 0.0359 - acc: 0.9886 - val_loss: 0.0338 - val_acc: 0.9888\n",
            "Epoch 4/10\n",
            "60000/60000 [==============================] - 137s 2ms/step - loss: 0.0261 - acc: 0.9919 - val_loss: 0.0331 - val_acc: 0.9884\n",
            "Epoch 5/10\n",
            "60000/60000 [==============================] - 137s 2ms/step - loss: 0.0198 - acc: 0.9936 - val_loss: 0.0320 - val_acc: 0.9900\n",
            "Epoch 6/10\n",
            "60000/60000 [==============================] - 136s 2ms/step - loss: 0.0165 - acc: 0.9947 - val_loss: 0.0300 - val_acc: 0.9900\n",
            "Epoch 7/10\n",
            "60000/60000 [==============================] - 136s 2ms/step - loss: 0.0112 - acc: 0.9965 - val_loss: 0.0278 - val_acc: 0.9921\n",
            "Epoch 8/10\n",
            "60000/60000 [==============================] - 136s 2ms/step - loss: 0.0098 - acc: 0.9968 - val_loss: 0.0350 - val_acc: 0.9895\n",
            "Epoch 9/10\n",
            "60000/60000 [==============================] - 136s 2ms/step - loss: 0.0086 - acc: 0.9970 - val_loss: 0.0449 - val_acc: 0.9892\n",
            "Epoch 10/10\n",
            "60000/60000 [==============================] - 135s 2ms/step - loss: 0.0078 - acc: 0.9974 - val_loss: 0.0433 - val_acc: 0.9894\n",
            "Test loss: 0.04332130532190022\n",
            "Test accuracy: 0.9894\n"
          ],
          "name": "stdout"
        }
      ]
    },
    {
      "cell_type": "code",
      "metadata": {
        "id": "6jcD81Yy4gAX",
        "colab_type": "code",
        "colab": {
          "base_uri": "https://localhost:8080/",
          "height": 280
        },
        "outputId": "c76bd60e-1e93-4811-daa2-b611d1d4cd57"
      },
      "source": [
        "fig,ax = plt.subplots(1,1)\n",
        "ax.set_xlabel('epoch') ; ax.set_ylabel('Categorical Crossentropy Loss')\n",
        "# list of epoch numbers\n",
        "x = list(range(1,epochs+1))\n",
        "# print(history.history.keys())\n",
        "# dict_keys(['val_loss', 'val_acc', 'loss', 'acc'])\n",
        "# history = model_drop.fit(X_train, Y_train, batch_size=batch_size, epochs=nb_epoc\n",
        "# we will get val_loss and val_acc only when you pass the paramter validation_data\n",
        "# val_loss : validation loss\n",
        "# val_acc : validation accuracy\n",
        "# loss : training loss\n",
        "# acc : train accuracy\n",
        "# for each key in histrory.histrory we will have a list of length equal to number\n",
        "vy = history.history['val_loss']\n",
        "ty = history.history['loss']\n",
        "plt_dynamic(x, vy, ty, ax)"
      ],
      "execution_count": 14,
      "outputs": [
        {
          "output_type": "display_data",
          "data": {
            "image/png": "[encoded data removed]",
            "text/plain": [
              "<Figure size 432x288 with 1 Axes>"
            ]
          },
          "metadata": {
            "tags": []
          }
        }
      ]
    },
    {
      "cell_type": "markdown",
      "metadata": {
        "id": "qDBnAD8Cx34C",
        "colab_type": "text"
      },
      "source": [
        "## 2.2 Model A.2 : Three Convolution layers with 3X3 filter size with dropout and batch normalization"
      ]
    },
    {
      "cell_type": "code",
      "metadata": {
        "id": "273ajXlfx0qH",
        "colab_type": "code",
        "colab": {
          "base_uri": "https://localhost:8080/",
          "height": 1000
        },
        "outputId": "7159a669-ba42-41d1-fff7-242ada9c19e1"
      },
      "source": [
        "from keras.layers.normalization import BatchNormalization\n",
        "\n",
        "model = Sequential()\n",
        "model.add(Conv2D(32, kernel_size=(3, 3),\n",
        "                 activation='relu',\n",
        "                 input_shape=input_shape,padding = \"same\"))\n",
        "\n",
        "model.add(Conv2D(16, (3, 3), activation='relu'))\n",
        "model.add(MaxPooling2D(pool_size=(2, 2)))\n",
        "model.add(Dropout(0.5))\n",
        "model.add(Conv2D(32, (3, 3), activation='relu'))\n",
        "model.add(MaxPooling2D(pool_size=(2, 2)))\n",
        "model.add(BatchNormalization())\n",
        "\n",
        "model.add(Flatten())\n",
        "\n",
        "model.add(Dense(64, activation='relu'))\n",
        "\n",
        "model.add(Dropout(0.5))\n",
        "model.add(BatchNormalization())\n",
        "model.add(Dense(num_classes, activation='softmax'))\n",
        "model.summary()\n",
        "print(\"------------------------------------------------\")\n",
        "\n",
        "model.compile(loss=keras.losses.categorical_crossentropy,\n",
        "              optimizer=keras.optimizers.Adam(),\n",
        "              metrics=['accuracy'])\n",
        "\n",
        "history = model.fit(x_train, y_train,\n",
        "          batch_size=batch_size,\n",
        "          epochs=epochs,\n",
        "          verbose=1,\n",
        "          validation_data=(x_test, y_test))\n",
        "score = model.evaluate(x_test, y_test, verbose=0)\n",
        "print('Test loss:', score[0])\n",
        "print('Test accuracy:', score[1])"
      ],
      "execution_count": 26,
      "outputs": [
        {
          "output_type": "stream",
          "text": [
            "WARNING:tensorflow:From /usr/local/lib/python3.6/dist-packages/keras/backend/tensorflow_backend.py:148: The name tf.placeholder_with_default is deprecated. Please use tf.compat.v1.placeholder_with_default instead.\n",
            "\n",
            "WARNING:tensorflow:From /usr/local/lib/python3.6/dist-packages/keras/backend/tensorflow_backend.py:3733: calling dropout (from tensorflow.python.ops.nn_ops) with keep_prob is deprecated and will be removed in a future version.\n",
            "Instructions for updating:\n",
            "Please use `rate` instead of `keep_prob`. Rate should be set to `rate = 1 - keep_prob`.\n",
            "WARNING:tensorflow:From /usr/local/lib/python3.6/dist-packages/keras/backend/tensorflow_backend.py:2041: The name tf.nn.fused_batch_norm is deprecated. Please use tf.compat.v1.nn.fused_batch_norm instead.\n",
            "\n",
            "Model: \"sequential_4\"\n",
            "_________________________________________________________________\n",
            "Layer (type)                 Output Shape              Param #   \n",
            "=================================================================\n",
            "conv2d_8 (Conv2D)            (None, 28, 28, 32)        320       \n",
            "_________________________________________________________________\n",
            "conv2d_9 (Conv2D)            (None, 26, 26, 16)        4624      \n",
            "_________________________________________________________________\n",
            "max_pooling2d_3 (MaxPooling2 (None, 13, 13, 16)        0         \n",
            "_________________________________________________________________\n",
            "dropout_1 (Dropout)          (None, 13, 13, 16)        0         \n",
            "_________________________________________________________________\n",
            "conv2d_10 (Conv2D)           (None, 11, 11, 32)        4640      \n",
            "_________________________________________________________________\n",
            "max_pooling2d_4 (MaxPooling2 (None, 5, 5, 32)          0         \n",
            "_________________________________________________________________\n",
            "batch_normalization_1 (Batch (None, 5, 5, 32)          128       \n",
            "_________________________________________________________________\n",
            "flatten_3 (Flatten)          (None, 800)               0         \n",
            "_________________________________________________________________\n",
            "dense_5 (Dense)              (None, 64)                51264     \n",
            "_________________________________________________________________\n",
            "dropout_2 (Dropout)          (None, 64)                0         \n",
            "_________________________________________________________________\n",
            "batch_normalization_2 (Batch (None, 64)                256       \n",
            "_________________________________________________________________\n",
            "dense_6 (Dense)              (None, 10)                650       \n",
            "=================================================================\n",
            "Total params: 61,882\n",
            "Trainable params: 61,690\n",
            "Non-trainable params: 192\n",
            "_________________________________________________________________\n",
            "------------------------------------------------\n",
            "Train on 60000 samples, validate on 10000 samples\n",
            "Epoch 1/10\n",
            "60000/60000 [==============================] - 110s 2ms/step - loss: 0.6297 - acc: 0.8145 - val_loss: 0.1967 - val_acc: 0.9454\n",
            "Epoch 2/10\n",
            "60000/60000 [==============================] - 109s 2ms/step - loss: 0.2002 - acc: 0.9471 - val_loss: 0.0757 - val_acc: 0.9786\n",
            "Epoch 3/10\n",
            "60000/60000 [==============================] - 108s 2ms/step - loss: 0.1446 - acc: 0.9606 - val_loss: 0.1153 - val_acc: 0.9652\n",
            "Epoch 4/10\n",
            "60000/60000 [==============================] - 108s 2ms/step - loss: 0.1242 - acc: 0.9653 - val_loss: 0.0565 - val_acc: 0.9819\n",
            "Epoch 5/10\n",
            "60000/60000 [==============================] - 108s 2ms/step - loss: 0.1099 - acc: 0.9687 - val_loss: 0.0458 - val_acc: 0.9846\n",
            "Epoch 6/10\n",
            "60000/60000 [==============================] - 107s 2ms/step - loss: 0.0972 - acc: 0.9729 - val_loss: 0.0417 - val_acc: 0.9867\n",
            "Epoch 7/10\n",
            "60000/60000 [==============================] - 107s 2ms/step - loss: 0.0907 - acc: 0.9739 - val_loss: 0.0386 - val_acc: 0.9881\n",
            "Epoch 8/10\n",
            "60000/60000 [==============================] - 108s 2ms/step - loss: 0.0836 - acc: 0.9759 - val_loss: 0.0453 - val_acc: 0.9866\n",
            "Epoch 9/10\n",
            "60000/60000 [==============================] - 107s 2ms/step - loss: 0.0783 - acc: 0.9773 - val_loss: 0.0474 - val_acc: 0.9858\n",
            "Epoch 10/10\n",
            "60000/60000 [==============================] - 108s 2ms/step - loss: 0.0782 - acc: 0.9779 - val_loss: 0.0512 - val_acc: 0.9853\n",
            "Test loss: 0.051169814010197295\n",
            "Test accuracy: 0.9853\n"
          ],
          "name": "stdout"
        }
      ]
    },
    {
      "cell_type": "code",
      "metadata": {
        "id": "_arEl-Xc50DI",
        "colab_type": "code",
        "colab": {
          "base_uri": "https://localhost:8080/",
          "height": 279
        },
        "outputId": "ee89e2c7-25e2-4f52-c610-5b474b5c9fbb"
      },
      "source": [
        "fig,ax = plt.subplots(1,1)\n",
        "ax.set_xlabel('epoch') ; ax.set_ylabel('Categorical Crossentropy Loss')\n",
        "# list of epoch numbers\n",
        "x = list(range(1,epochs+1))\n",
        "# print(history.history.keys())\n",
        "# dict_keys(['val_loss', 'val_acc', 'loss', 'acc'])\n",
        "# history = model_drop.fit(X_train, Y_train, batch_size=batch_size, epochs=nb_epoc\n",
        "# we will get val_loss and val_acc only when you pass the paramter validation_data\n",
        "# val_loss : validation loss\n",
        "# val_acc : validation accuracy\n",
        "# loss : training loss\n",
        "# acc : train accuracy\n",
        "# for each key in histrory.histrory we will have a list of length equal to number\n",
        "vy = history.history['val_loss']\n",
        "ty = history.history['loss']\n",
        "plt_dynamic(x, vy, ty, ax)"
      ],
      "execution_count": 27,
      "outputs": [
        {
          "output_type": "display_data",
          "data": {
            "image/png": "[encoded data removed]",
            "text/plain": [
              "<Figure size 432x288 with 1 Axes>"
            ]
          },
          "metadata": {
            "tags": []
          }
        }
      ]
    },
    {
      "cell_type": "markdown",
      "metadata": {
        "id": "b3fL1kNr1gBb",
        "colab_type": "text"
      },
      "source": [
        "## 2.3 Model B : Five Convolution layers with 5X5 filter size + Dropout + Batch Normalization + Max Pooling"
      ]
    },
    {
      "cell_type": "code",
      "metadata": {
        "colab_type": "code",
        "id": "C0SilJml1vmX",
        "colab": {
          "base_uri": "https://localhost:8080/",
          "height": 1000
        },
        "outputId": "717e6bb9-2d17-436f-fa15-7ad024a8f2fe"
      },
      "source": [
        "from keras.layers.normalization import BatchNormalization\n",
        "\n",
        "model = Sequential()\n",
        "model.add(Conv2D(32, kernel_size=(5, 5),\n",
        "                 activation='relu',\n",
        "                 input_shape=input_shape,padding = \"same\"))\n",
        "model.add(Conv2D(128, (5, 5), activation='relu',padding = \"same\"))\n",
        "model.add(MaxPooling2D(pool_size=(2, 2)))\n",
        "model.add(Dropout(0.25))\n",
        "model.add(Conv2D(64, (5, 5), activation='relu',padding = \"same\"))\n",
        "model.add(MaxPooling2D(pool_size=(2, 2)))\n",
        "model.add(Dropout(0.25))\n",
        "model.add(Conv2D(64, (5, 5), activation='relu',padding = \"same\"))\n",
        "model.add(BatchNormalization())\n",
        "model.add(Conv2D(32, (5, 5), activation='relu',padding = \"same\"))\n",
        "model.add(MaxPooling2D(pool_size=(2, 2)))\n",
        "model.add(Dropout(0.25))\n",
        "model.add(Flatten())\n",
        "model.add(Dense(128, activation='relu'))\n",
        "model.add(BatchNormalization())\n",
        "model.add(Dropout(0.5))\n",
        "model.add(Dense(num_classes, activation='softmax'))\n",
        "model.summary()\n",
        "\n",
        "\n",
        "model.compile(loss=keras.losses.categorical_crossentropy,\n",
        "              optimizer=keras.optimizers.Adam(),\n",
        "              metrics=['accuracy'])\n",
        "\n",
        "history = model.fit(x_train, y_train,\n",
        "          batch_size=batch_size,\n",
        "          epochs=epochs,\n",
        "          verbose=1,\n",
        "          validation_data=(x_test, y_test))\n",
        "score = model.evaluate(x_test, y_test, verbose=0)\n",
        "print('Test loss:', score[0])\n",
        "print('Test accuracy:', score[1])"
      ],
      "execution_count": 33,
      "outputs": [
        {
          "output_type": "stream",
          "text": [
            "Model: \"sequential_8\"\n",
            "_________________________________________________________________\n",
            "Layer (type)                 Output Shape              Param #   \n",
            "=================================================================\n",
            "conv2d_24 (Conv2D)           (None, 28, 28, 32)        832       \n",
            "_________________________________________________________________\n",
            "conv2d_25 (Conv2D)           (None, 28, 28, 128)       102528    \n",
            "_________________________________________________________________\n",
            "max_pooling2d_11 (MaxPooling (None, 14, 14, 128)       0         \n",
            "_________________________________________________________________\n",
            "dropout_9 (Dropout)          (None, 14, 14, 128)       0         \n",
            "_________________________________________________________________\n",
            "conv2d_26 (Conv2D)           (None, 14, 14, 64)        204864    \n",
            "_________________________________________________________________\n",
            "max_pooling2d_12 (MaxPooling (None, 7, 7, 64)          0         \n",
            "_________________________________________________________________\n",
            "dropout_10 (Dropout)         (None, 7, 7, 64)          0         \n",
            "_________________________________________________________________\n",
            "conv2d_27 (Conv2D)           (None, 7, 7, 64)          102464    \n",
            "_________________________________________________________________\n",
            "batch_normalization_4 (Batch (None, 7, 7, 64)          256       \n",
            "_________________________________________________________________\n",
            "conv2d_28 (Conv2D)           (None, 7, 7, 32)          51232     \n",
            "_________________________________________________________________\n",
            "max_pooling2d_13 (MaxPooling (None, 3, 3, 32)          0         \n",
            "_________________________________________________________________\n",
            "dropout_11 (Dropout)         (None, 3, 3, 32)          0         \n",
            "_________________________________________________________________\n",
            "flatten_4 (Flatten)          (None, 288)               0         \n",
            "_________________________________________________________________\n",
            "dense_7 (Dense)              (None, 128)               36992     \n",
            "_________________________________________________________________\n",
            "batch_normalization_5 (Batch (None, 128)               512       \n",
            "_________________________________________________________________\n",
            "dropout_12 (Dropout)         (None, 128)               0         \n",
            "_________________________________________________________________\n",
            "dense_8 (Dense)              (None, 10)                1290      \n",
            "=================================================================\n",
            "Total params: 500,970\n",
            "Trainable params: 500,586\n",
            "Non-trainable params: 384\n",
            "_________________________________________________________________\n",
            "Train on 60000 samples, validate on 10000 samples\n",
            "Epoch 1/10\n",
            "60000/60000 [==============================] - 1013s 17ms/step - loss: 0.5902 - acc: 0.8189 - val_loss: 0.4062 - val_acc: 0.8666\n",
            "Epoch 2/10\n",
            "60000/60000 [==============================] - 1000s 17ms/step - loss: 0.0836 - acc: 0.9761 - val_loss: 0.0509 - val_acc: 0.9841\n",
            "Epoch 3/10\n",
            "60000/60000 [==============================] - 992s 17ms/step - loss: 0.0560 - acc: 0.9834 - val_loss: 0.0363 - val_acc: 0.9882\n",
            "Epoch 4/10\n",
            "60000/60000 [==============================] - 1005s 17ms/step - loss: 0.0436 - acc: 0.9870 - val_loss: 0.0439 - val_acc: 0.9885\n",
            "Epoch 5/10\n",
            "60000/60000 [==============================] - 1006s 17ms/step - loss: 0.0362 - acc: 0.9895 - val_loss: 0.0230 - val_acc: 0.9924\n",
            "Epoch 6/10\n",
            "60000/60000 [==============================] - 1011s 17ms/step - loss: 0.0314 - acc: 0.9910 - val_loss: 0.0225 - val_acc: 0.9930\n",
            "Epoch 7/10\n",
            "60000/60000 [==============================] - 1004s 17ms/step - loss: 0.0284 - acc: 0.9916 - val_loss: 0.0179 - val_acc: 0.9945\n",
            "Epoch 8/10\n",
            "60000/60000 [==============================] - 1001s 17ms/step - loss: 0.0248 - acc: 0.9925 - val_loss: 0.0201 - val_acc: 0.9939\n",
            "Epoch 9/10\n",
            "60000/60000 [==============================] - 1004s 17ms/step - loss: 0.0231 - acc: 0.9931 - val_loss: 0.0257 - val_acc: 0.9926\n",
            "Epoch 10/10\n",
            "60000/60000 [==============================] - 1001s 17ms/step - loss: 0.0202 - acc: 0.9940 - val_loss: 0.0154 - val_acc: 0.9951\n",
            "Test loss: 0.015447779501778496\n",
            "Test accuracy: 0.9951\n"
          ],
          "name": "stdout"
        }
      ]
    },
    {
      "cell_type": "code",
      "metadata": {
        "id": "AT6OLmno58h4",
        "colab_type": "code",
        "colab": {
          "base_uri": "https://localhost:8080/",
          "height": 279
        },
        "outputId": "0f5c8b04-23c7-4144-9a3f-cdc6c7ffcedf"
      },
      "source": [
        "fig,ax = plt.subplots(1,1)\n",
        "ax.set_xlabel('epoch') ; ax.set_ylabel('Categorical Crossentropy Loss')\n",
        "# list of epoch numbers\n",
        "x = list(range(1,epochs+1))\n",
        "# print(history.history.keys())\n",
        "# dict_keys(['val_loss', 'val_acc', 'loss', 'acc'])\n",
        "# history = model_drop.fit(X_train, Y_train, batch_size=batch_size, epochs=nb_epoc\n",
        "# we will get val_loss and val_acc only when you pass the paramter validation_data\n",
        "# val_loss : validation loss\n",
        "# val_acc : validation accuracy\n",
        "# loss : training loss\n",
        "# acc : train accuracy\n",
        "# for each key in histrory.histrory we will have a list of length equal to number\n",
        "vy = history.history['val_loss']\n",
        "ty = history.history['loss']\n",
        "plt_dynamic(x, vy, ty, ax)"
      ],
      "execution_count": 34,
      "outputs": [
        {
          "output_type": "display_data",
          "data": {
            "image/png": "[encoded data removed]",
            "text/plain": [
              "<Figure size 432x288 with 1 Axes>"
            ]
          },
          "metadata": {
            "tags": []
          }
        }
      ]
    },
    {
      "cell_type": "markdown",
      "metadata": {
        "id": "wuL3EPx63Bcm",
        "colab_type": "text"
      },
      "source": [
        "## 2.4 Model C : Seven Convolution layers with 7X7 filter size + Dropout + Batch Normalization + Max Pooling"
      ]
    },
    {
      "cell_type": "code",
      "metadata": {
        "colab_type": "code",
        "id": "3-lBW2mW3Qlb",
        "colab": {
          "base_uri": "https://localhost:8080/",
          "height": 1000
        },
        "outputId": "b568c7fc-44f1-4e83-8cc5-4834da7ff605"
      },
      "source": [
        "from keras.layers.normalization import BatchNormalization\n",
        "epochs = 10\n",
        "model = Sequential()\n",
        "model.add(Conv2D(64, kernel_size=(2, 2),\n",
        "                 activation='relu',\n",
        "                 input_shape=input_shape,padding = \"same\"))\n",
        "model.add(Conv2D(128, (2, 2), activation='relu',padding = \"same\"))\n",
        "model.add(Conv2D(64, (2, 2), activation='relu',padding = \"same\"))\n",
        "model.add(MaxPooling2D(pool_size=(2, 2)))\n",
        "model.add(Dropout(0.25))\n",
        "model.add(Conv2D(64, (3, 3), activation='relu',padding = \"same\"))\n",
        "model.add(Conv2D(32, (2, 2), activation='relu',padding = \"same\"))\n",
        "model.add(MaxPooling2D(pool_size=(2, 2)))\n",
        "model.add(Conv2D(32, (3, 3), activation='relu',padding = \"same\"))\n",
        "model.add(Conv2D(32, (2, 2), activation='relu',padding = \"same\"))\n",
        "model.add(Dropout(0.25))\n",
        "model.add(BatchNormalization())\n",
        "model.add(Flatten())\n",
        "model.add(Dense(64, activation='relu'))\n",
        "model.add(Dropout(0.5))\n",
        "model.add(Dense(num_classes, activation='softmax'))\n",
        "model.summary()\n",
        "\n",
        "\n",
        "model.compile(loss=keras.losses.categorical_crossentropy,\n",
        "              optimizer=keras.optimizers.Adam(),\n",
        "              metrics=['accuracy'])\n",
        "\n",
        "history = model.fit(x_train, y_train,\n",
        "          batch_size=batch_size,\n",
        "          epochs=epochs,\n",
        "          verbose=1,\n",
        "          validation_data=(x_test, y_test))\n",
        "score = model.evaluate(x_test, y_test, verbose=0)\n",
        "print('Test loss:', score[0])\n",
        "print('Test accuracy:', score[1])"
      ],
      "execution_count": 7,
      "outputs": [
        {
          "output_type": "stream",
          "text": [
            "Model: \"sequential_3\"\n",
            "_________________________________________________________________\n",
            "Layer (type)                 Output Shape              Param #   \n",
            "=================================================================\n",
            "conv2d_15 (Conv2D)           (None, 28, 28, 64)        3200      \n",
            "_________________________________________________________________\n",
            "conv2d_16 (Conv2D)           (None, 28, 28, 128)       32896     \n",
            "_________________________________________________________________\n",
            "conv2d_17 (Conv2D)           (None, 28, 28, 64)        32832     \n",
            "_________________________________________________________________\n",
            "max_pooling2d_5 (MaxPooling2 (None, 14, 14, 64)        0         \n",
            "_________________________________________________________________\n",
            "dropout_7 (Dropout)          (None, 14, 14, 64)        0         \n",
            "_________________________________________________________________\n",
            "conv2d_18 (Conv2D)           (None, 14, 14, 64)        36928     \n",
            "_________________________________________________________________\n",
            "conv2d_19 (Conv2D)           (None, 14, 14, 32)        8224      \n",
            "_________________________________________________________________\n",
            "max_pooling2d_6 (MaxPooling2 (None, 7, 7, 32)          0         \n",
            "_________________________________________________________________\n",
            "conv2d_20 (Conv2D)           (None, 7, 7, 32)          9248      \n",
            "_________________________________________________________________\n",
            "conv2d_21 (Conv2D)           (None, 7, 7, 32)          4128      \n",
            "_________________________________________________________________\n",
            "dropout_8 (Dropout)          (None, 7, 7, 32)          0         \n",
            "_________________________________________________________________\n",
            "batch_normalization_3 (Batch (None, 7, 7, 32)          128       \n",
            "_________________________________________________________________\n",
            "flatten_3 (Flatten)          (None, 1568)              0         \n",
            "_________________________________________________________________\n",
            "dense_5 (Dense)              (None, 64)                100416    \n",
            "_________________________________________________________________\n",
            "dropout_9 (Dropout)          (None, 64)                0         \n",
            "_________________________________________________________________\n",
            "dense_6 (Dense)              (None, 10)                650       \n",
            "=================================================================\n",
            "Total params: 228,650\n",
            "Trainable params: 228,586\n",
            "Non-trainable params: 64\n",
            "_________________________________________________________________\n",
            "Train on 60000 samples, validate on 10000 samples\n",
            "Epoch 1/10\n",
            "60000/60000 [==============================] - 651s 11ms/step - loss: 0.3806 - acc: 0.8771 - val_loss: 0.0620 - val_acc: 0.9821\n",
            "Epoch 2/10\n",
            "60000/60000 [==============================] - 650s 11ms/step - loss: 0.1078 - acc: 0.9697 - val_loss: 0.0511 - val_acc: 0.9835\n",
            "Epoch 3/10\n",
            "60000/60000 [==============================] - 649s 11ms/step - loss: 0.0768 - acc: 0.9784 - val_loss: 0.0342 - val_acc: 0.9898\n",
            "Epoch 4/10\n",
            "60000/60000 [==============================] - 651s 11ms/step - loss: 0.0655 - acc: 0.9820 - val_loss: 0.0225 - val_acc: 0.9929\n",
            "Epoch 5/10\n",
            "60000/60000 [==============================] - 650s 11ms/step - loss: 0.0577 - acc: 0.9835 - val_loss: 0.0257 - val_acc: 0.9926\n",
            "Epoch 6/10\n",
            "60000/60000 [==============================] - 648s 11ms/step - loss: 0.0481 - acc: 0.9866 - val_loss: 0.0197 - val_acc: 0.9938\n",
            "Epoch 7/10\n",
            "60000/60000 [==============================] - 648s 11ms/step - loss: 0.0430 - acc: 0.9878 - val_loss: 0.0227 - val_acc: 0.9931\n",
            "Epoch 8/10\n",
            "60000/60000 [==============================] - 652s 11ms/step - loss: 0.0415 - acc: 0.9878 - val_loss: 0.0350 - val_acc: 0.9889\n",
            "Epoch 9/10\n",
            "60000/60000 [==============================] - 652s 11ms/step - loss: 0.0384 - acc: 0.9889 - val_loss: 0.0260 - val_acc: 0.9930\n",
            "Epoch 10/10\n",
            "60000/60000 [==============================] - 651s 11ms/step - loss: 0.0351 - acc: 0.9895 - val_loss: 0.0361 - val_acc: 0.9907\n",
            "Test loss: 0.03611384315206651\n",
            "Test accuracy: 0.9907\n"
          ],
          "name": "stdout"
        }
      ]
    },
    {
      "cell_type": "code",
      "metadata": {
        "id": "36gyb06w6B2A",
        "colab_type": "code",
        "colab": {
          "base_uri": "https://localhost:8080/",
          "height": 279
        },
        "outputId": "6a913c32-75c7-4c3c-9937-b7cd2cded272"
      },
      "source": [
        "fig,ax = plt.subplots(1,1)\n",
        "ax.set_xlabel('epoch') ; ax.set_ylabel('Categorical Crossentropy Loss')\n",
        "# list of epoch numbers\n",
        "x = list(range(1,epochs+1))\n",
        "# print(history.history.keys())\n",
        "# dict_keys(['val_loss', 'val_acc', 'loss', 'acc'])\n",
        "# history = model_drop.fit(X_train, Y_train, batch_size=batch_size, epochs=nb_epoc\n",
        "# we will get val_loss and val_acc only when you pass the paramter validation_data\n",
        "# val_loss : validation loss\n",
        "# val_acc : validation accuracy\n",
        "# loss : training loss\n",
        "# acc : train accuracy\n",
        "# for each key in histrory.histrory we will have a list of length equal to number\n",
        "vy = history.history['val_loss']\n",
        "ty = history.history['loss']\n",
        "plt_dynamic(x, vy, ty, ax)"
      ],
      "execution_count": 8,
      "outputs": [
        {
          "output_type": "display_data",
          "data": {
            "image/png": "[encoded data removed]",
            "text/plain": [
              "<Figure size 432x288 with 1 Axes>"
            ]
          },
          "metadata": {
            "tags": []
          }
        }
      ]
    },
    {
      "cell_type": "markdown",
      "metadata": {
        "id": "DDO1_2C5eZdw",
        "colab_type": "text"
      },
      "source": [
        "# 3. Summary"
      ]
    },
    {
      "cell_type": "code",
      "metadata": {
        "id": "n8BVIEUqb7vL",
        "colab_type": "code",
        "colab": {
          "base_uri": "https://localhost:8080/",
          "height": 190
        },
        "outputId": "02d46982-04f1-49f3-868e-55ec9da564ba"
      },
      "source": [
        "# To summarize the results:\n",
        "# summary table in jupyter notebook\n",
        "# http://zetcode.com/python/prettytable/\n",
        "# https://stackoverflow.com/questions/35160256/how-do-i-output-lists-as-a-table-in-jupyter-notebook\n",
        "\n",
        "from prettytable import PrettyTable\n",
        "print(\"Epoch : 10 and Batch Size : 256\")\n",
        "x = PrettyTable()\n",
        "\n",
        "x.field_names = [\"Model\",\"Convolution Layers\",\"Kernel Size\",\"Max pool\",\"Padding\",\"Batch Normalization\",\"Dropout\",\"Loss\",\"Accuracy\"]\n",
        "\n",
        "x.add_row([\"CNN\", \"3\",\"3X3 for all\",\"Yes\",\"No\",\"No\",\"No\",0.043,98.94])\n",
        "x.add_row([\"CNN\", \"3\",\"3X3 for all\",\"Yes\",\"Yes\",\"Yes\",\"Yes\",0.051,98.53])\n",
        "x.add_row([\"CNN\", \"5\",\"5X5 for all\",\"Yes\",\"Yes\",\"Yes\",\"Yes\",0.0154,99.51])\n",
        "x.add_row([\"CNN\", \"7\",\"3X3 for 4th and 6th layer 2X2 for rest\",\"Yes\",\"Yes\",\"Yes\",\"Yes\",0.0361,99.07])\n",
        "\n",
        "\n",
        "print(x)"
      ],
      "execution_count": 2,
      "outputs": [
        {
          "output_type": "stream",
          "text": [
            "Epoch : 10 and Batch Size : 256\n",
            "+-------+--------------------+----------------------------------------+----------+---------+---------------------+---------+--------+----------+\n",
            "| Model | Convolution Layers |              Kernel Size               | Max pool | Padding | Batch Normalization | Dropout |  Loss  | Accuracy |\n",
            "+-------+--------------------+----------------------------------------+----------+---------+---------------------+---------+--------+----------+\n",
            "|  CNN  |         3          |              3X3 for all               |   Yes    |    No   |          No         |    No   | 0.043  |  98.94   |\n",
            "|  CNN  |         3          |              3X3 for all               |   Yes    |   Yes   |         Yes         |   Yes   | 0.051  |  98.53   |\n",
            "|  CNN  |         5          |              5X5 for all               |   Yes    |   Yes   |         Yes         |   Yes   | 0.0154 |  99.51   |\n",
            "|  CNN  |         7          | 3X3 for 4th and 6th layer 2X2 for rest |   Yes    |   Yes   |         Yes         |   Yes   | 0.0361 |  99.07   |\n",
            "+-------+--------------------+----------------------------------------+----------+---------+---------------------+---------+--------+----------+\n"
          ],
          "name": "stdout"
        }
      ]
    }
  ]
}